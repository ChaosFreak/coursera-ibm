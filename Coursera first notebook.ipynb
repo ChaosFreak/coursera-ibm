{
    "cells": [
        {
            "metadata": {
                "collapsed": true
            },
            "cell_type": "markdown",
            "source": "# My Jupyter Notebook on IBM Watson Studio"
        },
        {
            "metadata": {},
            "cell_type": "markdown",
            "source": "__James Ryan__\n\nAI/ML Startup CEO"
        },
        {
            "metadata": {},
            "cell_type": "markdown",
            "source": "_I am interested in data science because it has the potential to transform the lives of everyone on the planet in a short period of time_"
        },
        {
            "metadata": {},
            "cell_type": "markdown",
            "source": "### My code below will convert 60 degrees Fahrenheit to Celcius"
        },
        {
            "metadata": {},
            "cell_type": "code",
            "source": "celcius = (60 - 32) * 5 / 9\nprint(\"60 degrees Fahrenheit is\",celcius,\"degrees Celcius.\")",
            "execution_count": 3,
            "outputs": [
                {
                    "output_type": "stream",
                    "text": "60 degrees Fahrenheit is 15.555555555555555 degrees Celcius.\n",
                    "name": "stdout"
                }
            ]
        },
        {
            "metadata": {},
            "cell_type": "markdown",
            "source": "#### A few of my favorite things\n***\n1. Websites\n    1. __[Give Directly](https://givedirectly.org)__\n    1. __[Wordle](https://www.nytimes.com/games/wordle/index.html)__\n    1. __[Wait But Why](https://waitbutwhy.com/2014/05/fermi-paradox.html)__\n1. Memes\n\n<img src=\"https://i.insider.com/5df773cefd9db21a1c58b0c4?width=2000&format=jpeg&auto=webp\" title=\"Cat & Woman Screaming\" width=200 align=\"left\" />\n<img src=\"https://i.kym-cdn.com/entries/icons/original/000/023/732/damngina.jpg\" title=\"Distracted Boyfriend\" width=200 align=\"left\" />\n<img src=\"https://media.tenor.com/vZFtbQQ0kiEAAAAd/meme-monkey.gif\" title=\"Distracted Boyfriend\" width=200 align=\"left\" />"
        }
    ],
    "metadata": {
        "kernelspec": {
            "name": "python3",
            "display_name": "Python 3.10",
            "language": "python"
        },
        "language_info": {
            "name": "python",
            "version": "3.10.9",
            "mimetype": "text/x-python",
            "codemirror_mode": {
                "name": "ipython",
                "version": 3
            },
            "pygments_lexer": "ipython3",
            "nbconvert_exporter": "python",
            "file_extension": ".py"
        }
    },
    "nbformat": 4,
    "nbformat_minor": 1
}